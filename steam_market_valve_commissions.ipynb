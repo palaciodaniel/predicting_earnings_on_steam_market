{
 "cells": [
  {
   "cell_type": "markdown",
   "metadata": {},
   "source": [
    "# Machine Learning - Predicting Steam Market Earnings after Commissions\n",
    "By **Daniel Palacio** (github.com/palaciodaniel) - October 2020"
   ]
  },
  {
   "cell_type": "code",
   "execution_count": 1,
   "metadata": {},
   "outputs": [],
   "source": [
    "# Loading required libraries\n",
    "\n",
    "import pandas as pd\n",
    "import matplotlib.pyplot as plt\n",
    "import numpy as np\n",
    "\n",
    "from sklearn.model_selection import train_test_split\n",
    "from sklearn.linear_model import LinearRegression"
   ]
  },
  {
   "cell_type": "markdown",
   "metadata": {},
   "source": [
    "### 1. Exploring the CSV"
   ]
  },
  {
   "cell_type": "code",
   "execution_count": 2,
   "metadata": {},
   "outputs": [
    {
     "data": {
      "text/html": [
       "<div>\n",
       "<style scoped>\n",
       "    .dataframe tbody tr th:only-of-type {\n",
       "        vertical-align: middle;\n",
       "    }\n",
       "\n",
       "    .dataframe tbody tr th {\n",
       "        vertical-align: top;\n",
       "    }\n",
       "\n",
       "    .dataframe thead th {\n",
       "        text-align: right;\n",
       "    }\n",
       "</style>\n",
       "<table border=\"1\" class=\"dataframe\">\n",
       "  <thead>\n",
       "    <tr style=\"text-align: right;\">\n",
       "      <th></th>\n",
       "      <th>Earnings</th>\n",
       "      <th>Price</th>\n",
       "    </tr>\n",
       "  </thead>\n",
       "  <tbody>\n",
       "    <tr>\n",
       "      <th>0</th>\n",
       "      <td>0.88</td>\n",
       "      <td>1.00</td>\n",
       "    </tr>\n",
       "    <tr>\n",
       "      <th>1</th>\n",
       "      <td>1.00</td>\n",
       "      <td>1.15</td>\n",
       "    </tr>\n",
       "    <tr>\n",
       "      <th>2</th>\n",
       "      <td>1.75</td>\n",
       "      <td>2.00</td>\n",
       "    </tr>\n",
       "    <tr>\n",
       "      <th>3</th>\n",
       "      <td>2.00</td>\n",
       "      <td>2.30</td>\n",
       "    </tr>\n",
       "    <tr>\n",
       "      <th>4</th>\n",
       "      <td>2.61</td>\n",
       "      <td>3.00</td>\n",
       "    </tr>\n",
       "  </tbody>\n",
       "</table>\n",
       "</div>"
      ],
      "text/plain": [
       "   Earnings  Price\n",
       "0      0.88   1.00\n",
       "1      1.00   1.15\n",
       "2      1.75   2.00\n",
       "3      2.00   2.30\n",
       "4      2.61   3.00"
      ]
     },
     "execution_count": 2,
     "metadata": {},
     "output_type": "execute_result"
    }
   ],
   "source": [
    "# Loading the information (from CSV file)\n",
    "\n",
    "df = pd.read_csv(\"steam_commissions.csv\", header = 0)\n",
    "df.head()"
   ]
  },
  {
   "cell_type": "markdown",
   "metadata": {},
   "source": [
    "For clarification, 'Price' is the price we are aiming to sell our active on the Steam Market, while the 'Earnings' are the profit we would get after subtracting Valve's commissions.\n",
    "\n",
    "I created the CSV basically by entering the Steam Market and manually inputting those values, by using an unsold card that I was keeping on my Inventory. Obviously I did not complete the transaction, otherwise I would have lost the card when entering the lowest prices."
   ]
  },
  {
   "cell_type": "code",
   "execution_count": 3,
   "metadata": {},
   "outputs": [
    {
     "data": {
      "image/png": "[encoded data removed]",
      "text/plain": [
       "<Figure size 432x432 with 1 Axes>"
      ]
     },
     "metadata": {
      "needs_background": "light"
     },
     "output_type": "display_data"
    }
   ],
   "source": [
    "# Setting plot size\n",
    "\n",
    "plt.rcParams[\"figure.figsize\"] = (6, 6)\n",
    "\n",
    "# Plotting itself\n",
    "\n",
    "plt.scatter(x = df[\"Price\"][:-12], y = df[\"Earnings\"][:-12]) # Notice we are plotting only a segment.\n",
    "\n",
    "# Title and axis settings\n",
    "\n",
    "plt.title(\"Steam Market Profit Calculation\")\n",
    "plt.xlabel(\"Selling Price (ARS)\") # ARS: Argentine Peso, remember.\n",
    "plt.ylabel(\"Earnings (ARS)\")\n",
    "\n",
    "# Show finished plot\n",
    "\n",
    "plt.show()"
   ]
  },
  {
   "cell_type": "markdown",
   "metadata": {},
   "source": [
    "Thanks to the plot, we can see that Linear Regression is excellent to build a model for this situation."
   ]
  },
  {
   "cell_type": "markdown",
   "metadata": {},
   "source": [
    "### 2. Creating the Model"
   ]
  },
  {
   "cell_type": "code",
   "execution_count": 4,
   "metadata": {},
   "outputs": [],
   "source": [
    "# Dividing into train and test subsets\n",
    "\n",
    "X_train, X_test, y_train, y_test = train_test_split(df[\"Price\"].to_numpy(), df[\"Earnings\"].to_numpy(), \\\n",
    "                                                    test_size = 0.25, random_state = 24)\n",
    "\n",
    "# Reshaping arrays (otherwise we will get the message: 'ValueError: Expected 2D array, got 1D array instead')\n",
    "\n",
    "X_train = X_train.reshape(-1, 1)\n",
    "y_train = y_train.reshape(-1, 1)\n",
    "X_test = X_test.reshape(-1, 1)\n",
    "\n",
    "# Instantiating and fitting the model\n",
    "\n",
    "lin_reg = LinearRegression().fit(X_train, y_train)"
   ]
  },
  {
   "cell_type": "code",
   "execution_count": 5,
   "metadata": {},
   "outputs": [
    {
     "name": "stdout",
     "output_type": "stream",
     "text": [
      "Score: 0.9608926503415309\n"
     ]
    }
   ],
   "source": [
    "# Predicting values from X_test\n",
    "\n",
    "y_pred = lin_reg.predict(X_test)\n",
    "\n",
    "# Getting the score. The closer it is to 1.0 the better.\n",
    "\n",
    "score = lin_reg.score(y_pred, y_test)\n",
    "print(\"Score:\", score)"
   ]
  },
  {
   "cell_type": "markdown",
   "metadata": {},
   "source": [
    "Due to how correlated all the values are, it was no surprise that we would get an extremely high score.\n",
    "\n",
    "You can check the following [link](https://scikit-learn.org/stable/modules/generated/sklearn.linear_model.LinearRegression.html#sklearn.linear_model.LinearRegression.score) to confirm that this is a very robust model (\"The best possible score is 1.0...\")."
   ]
  },
  {
   "cell_type": "code",
   "execution_count": 6,
   "metadata": {},
   "outputs": [
    {
     "data": {
      "image/png": "[encoded data removed]",
      "text/plain": [
       "<Figure size 1080x504 with 1 Axes>"
      ]
     },
     "metadata": {
      "needs_background": "light"
     },
     "output_type": "display_data"
    }
   ],
   "source": [
    "# Setting plot size\n",
    "\n",
    "plt.rcParams[\"figure.figsize\"] = (15, 7)\n",
    "\n",
    "# As I said before, we reshape because scikit-learn by default expects a 2D array.\n",
    "\n",
    "X_reshaped = df[\"Price\"].values.reshape(-1, 1)\n",
    "\n",
    "# Plotting itself\n",
    "\n",
    "plt.scatter(x = df[\"Price\"], y = df[\"Earnings\"]) # Now we are plotting all values.\n",
    "plt.plot(X_reshaped, lin_reg.predict(X_reshaped), color = \"green\") # This adds the prediction line.\n",
    "\n",
    "# Title and axis settings\n",
    "\n",
    "plt.title(\"Steam Market Profit Calculation\", size = 20)\n",
    "plt.xlabel(\"Selling Price (ARS)\", size = 15)\n",
    "plt.ylabel(\"Earnings (ARS)\", size = 15)\n",
    "\n",
    "# Show finished plot\n",
    "\n",
    "plt.show()"
   ]
  },
  {
   "cell_type": "markdown",
   "metadata": {},
   "source": [
    "As expected, our model (represented by the green line) effectively is \"touching\" all the values from the CSV. Therefore we can confidently use the model to predict all the values we want to know..."
   ]
  },
  {
   "cell_type": "markdown",
   "metadata": {},
   "source": [
    "### 3. Applying the Model on our own Prices"
   ]
  },
  {
   "cell_type": "code",
   "execution_count": 9,
   "metadata": {},
   "outputs": [
    {
     "name": "stdout",
     "output_type": "stream",
     "text": [
      "The predicted value for 1.72 is 1.5.\n",
      "\n",
      "\n",
      "The predicted value for 2.24 is 1.95.\n",
      "\n",
      "\n",
      "The predicted value for 3.84 is 3.34.\n",
      "\n",
      "\n",
      "The predicted value for 4.17 is 3.63.\n",
      "\n",
      "\n",
      "The predicted value for 6.65 is 5.79.\n",
      "\n",
      "\n",
      "The predicted value for 8.23 is 7.16.\n",
      "\n",
      "\n",
      "The predicted value for 10.15 is 8.83.\n",
      "\n",
      "\n",
      "The predicted value for 21.88 is 19.03.\n",
      "\n",
      "\n",
      "The predicted value for 56.57 is 49.19.\n",
      "\n",
      "\n",
      "The predicted value for 257.79 is 224.17.\n",
      "\n",
      "\n"
     ]
    }
   ],
   "source": [
    "# Here, as an example, I chose some random selling prices to be passed to the 'predict' method.\n",
    "\n",
    "selected_values = np.array([1.72, 2.24, 3.84, 4.17, 6.65, 8.23, 10.15, 21.88, 56.57, 257.79])\n",
    "\n",
    "for value in selected_values:\n",
    "    reshaped_value = value.reshape(1, -1)\n",
    "    pred_value = lin_reg.predict(reshaped_value)\n",
    "    print(\"The predicted value for {} is {}.\\n\\n\".format(value, round(pred_value[0][0], 2)))   "
   ]
  },
  {
   "cell_type": "markdown",
   "metadata": {},
   "source": [
    "As a sanity check, I inputted the values from the array on the Steam Market, and I successfully got the same results there. I encourage you to do the same (but remember, **do not** confirm the transaction!)."
   ]
  },
  {
   "cell_type": "code",
   "execution_count": null,
   "metadata": {},
   "outputs": [],
   "source": [
    "# And now it is your turn. Run this cell and input the value you prefer...\n",
    "\n",
    "your_value = input(\"Enter your desired value: \")\n",
    "\n",
    "try:\n",
    "    value_float = float(your_value)\n",
    "    value_array = np.array(value_float).reshape(1, -1)\n",
    "except:\n",
    "    raise ValueError(\"ERROR: Please write a number. Use a dot ('.') for decimals.\")\n",
    "\n",
    "predicted_value = lin_reg.predict(value_array)\n",
    "\n",
    "print(\"\\nRESULT: The predicted value for {} is {}. \\\n",
    "\\n\\nRun this Cell again if you want to try another value.\".format(your_value, round(predicted_value[0][0], 2)))"
   ]
  },
  {
   "cell_type": "markdown",
   "metadata": {},
   "source": [
    "Remember that if you do not have a Jupyter Notebook installed on your system, you can quickly load this same file on the [official site](https://jupyter.org/try) (just choose *Try Classic Notebook* and you are ready to go). "
   ]
  }
 ],
 "metadata": {
  "kernelspec": {
   "display_name": "Python 3",
   "language": "python",
   "name": "python3"
  },
  "language_info": {
   "codemirror_mode": {
    "name": "ipython",
    "version": 3
   },
   "file_extension": ".py",
   "mimetype": "text/x-python",
   "name": "python",
   "nbconvert_exporter": "python",
   "pygments_lexer": "ipython3",
   "version": "3.8.3"
  }
 },
 "nbformat": 4,
 "nbformat_minor": 4
}
